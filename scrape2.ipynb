{
 "cells": [
  {
   "cell_type": "code",
   "execution_count": 80,
   "id": "4108ff21-766c-4cea-ac4b-e7a4601ce81d",
   "metadata": {},
   "outputs": [],
   "source": [
    "import requests\n",
    "from bs4 import BeautifulSoup\n",
    "import pandas as pd\n",
    "from io import StringIO"
   ]
  },
  {
   "cell_type": "code",
   "execution_count": 116,
   "id": "66ab5472-8989-4494-82fd-4734f158b8a3",
   "metadata": {},
   "outputs": [
    {
     "data": {
      "text/plain": [
       "['West De Pere (De Pere)',\n",
       " 'Iowa-Grant (Livingston)',\n",
       " 'Kewaskum',\n",
       " 'Mount Horeb/Barneveld',\n",
       " 'LWLHS (Jackson)',\n",
       " 'St. Joseph (Kenosha)',\n",
       " 'River Falls',\n",
       " 'Boyceville',\n",
       " 'GBEHS (Green Bay)',\n",
       " 'Indian Trail (Kenosha)',\n",
       " 'Winneconne',\n",
       " 'BCHS (Brookfield)',\n",
       " 'Black River Falls',\n",
       " 'Whitefish Bay',\n",
       " 'ALSAA (CO-OP) (Madison)',\n",
       " 'Arrowhead (Hartland)',\n",
       " 'Lourdes (Oshkosh)',\n",
       " 'Delavan-Darien (Delavan)',\n",
       " 'Waukesha South (Waukesha)',\n",
       " 'ECNHS (Eau Claire)',\n",
       " 'New Lisbon',\n",
       " 'KBHS (Kenosha)',\n",
       " 'Wausau East (Wausau)',\n",
       " 'Spring Valley',\n",
       " 'Westosha Central (Salem)',\n",
       " 'Nekoosa',\n",
       " 'Deerfield',\n",
       " 'Omro',\n",
       " 'D.C. Everest (Schofield)',\n",
       " 'Black Hawk/Warren IL',\n",
       " 'WSSHS (CO-OP) (Wauzeka)',\n",
       " 'KBHS (Kenosha)',\n",
       " 'Germantown',\n",
       " 'Big Foot (Walworth)',\n",
       " 'MMHS (Madison)',\n",
       " 'D.C. Everest (Schofield)',\n",
       " 'Peshtigo',\n",
       " 'Middleton',\n",
       " 'GBNEWL (Green Bay)',\n",
       " 'RVHS (Spring Green)',\n",
       " 'Oostburg',\n",
       " 'WBWHS (West Bend)',\n",
       " 'JCHS (Janesville)',\n",
       " 'Ithaca (Richland Center)',\n",
       " 'Wausau West (Wausau)',\n",
       " 'SLHS (Somers)',\n",
       " 'New Lisbon',\n",
       " 'Coleman',\n",
       " 'ALSAA (CO-OP) (Madison)',\n",
       " 'BEHS (Brookfield)']"
      ]
     },
     "execution_count": 116,
     "metadata": {},
     "output_type": "execute_result"
    }
   ],
   "source": [
    "resp = requests.get(\"https://www.maxpreps.com/wi/football/stat-leaders/offense/passing/yds/\")\n",
    "resp.raise_for_status()\n",
    "\n",
    "bs = BeautifulSoup(resp.text)\n",
    "names = []\n",
    "schools = []\n",
    "for tag in bs.find_all('a', attrs={'class': \"sc-63c3c392-2 ctOOgc\"}):\n",
    "    names.append(tag.text)\n",
    "for tag in bs.find_all('a', attrs={'class':\"sc-63c3c392-2 ctOOgc school\"}):\n",
    "    schools.append(tag.text)"
   ]
  },
  {
   "cell_type": "code",
   "execution_count": 120,
   "id": "e3d7e451-ff82-4e67-83bb-a66ad014a7a7",
   "metadata": {},
   "outputs": [],
   "source": [
    "df = pd.read_html(StringIO(resp.text))[0]\n",
    "df['Name'] = names[2:]\n",
    "df[\"School\"] = schools"
   ]
  },
  {
   "cell_type": "code",
   "execution_count": null,
   "id": "986a5e3c-7e3a-4b9c-a818-b6010a4a20d5",
   "metadata": {},
   "outputs": [],
   "source": []
  }
 ],
 "metadata": {
  "kernelspec": {
   "display_name": "Python 3 (ipykernel)",
   "language": "python",
   "name": "python3"
  },
  "language_info": {
   "codemirror_mode": {
    "name": "ipython",
    "version": 3
   },
   "file_extension": ".py",
   "mimetype": "text/x-python",
   "name": "python",
   "nbconvert_exporter": "python",
   "pygments_lexer": "ipython3",
   "version": "3.11.5"
  }
 },
 "nbformat": 4,
 "nbformat_minor": 5
}
